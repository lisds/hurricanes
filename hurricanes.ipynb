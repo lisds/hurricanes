{
 "cells": [
  {
   "cell_type": "markdown",
   "id": "5102749e",
   "metadata": {},
   "source": [
    "# On hurricanes"
   ]
  },
  {
   "cell_type": "code",
   "execution_count": null,
   "id": "cd63c521",
   "metadata": {},
   "outputs": [],
   "source": [
    "# Don't change this cell; just run it.\n",
    "import numpy as np  # The array library.\n",
    "\n",
    "import pandas as pd\n",
    "pd.set_option('mode.copy_on_write', True)\n",
    "\n",
    "# The OKpy testing system.\n",
    "from client.api.notebook import Notebook\n",
    "ok = Notebook('hurricanes.ok')"
   ]
  },
  {
   "cell_type": "markdown",
   "id": "245b8481",
   "metadata": {},
   "source": [
    "## Is climate change having an effect on hurricanes?\n",
    "\n",
    "The US [National Oceanic and Atmospheric Administraition](https://www.noaa.gov)\n",
    "has a [May 2023 briefing on hurricanes and climate\n",
    "change](https://sciencecouncil.noaa.gov/wp-content/uploads/2023/05/1.1_SOS_Atlantic_Hurricanes_Climate.pdf).  They say:\n",
    "\n",
    "> Decreases in aerosol forcing since the 1970s and multidecadal ocean\n",
    "circulation changes are thought to be contributing to the increased Atlantic\n",
    "hurricane activity since 1980, though their relative contributions are still\n",
    "uncertain and with no scientific consensus. While greenhouse gas-induced\n",
    "warming may have also affected Atlantic hurricane activity, a detectable\n",
    "greenhouse gas influence on hurricane activity has not been identified with\n",
    "high confidence."
   ]
  },
  {
   "cell_type": "markdown",
   "id": "bd31b86e",
   "metadata": {},
   "source": [
    "### The data\n",
    "\n",
    "Let's have a look at the data.  Happily, the NOAA provide the data on their [hurricane data website](https://www.nhc.noaa.gov/data). \n",
    "\n",
    "We are going to look at the most up to date data on Atlantic hurricanes (at\n",
    "time of writing), stored at\n",
    "<https://www.nhc.noaa.gov/data/hurdat/hurdat2-1851-2022-050423.txt>."
   ]
  },
  {
   "cell_type": "markdown",
   "id": "8f93d977",
   "metadata": {},
   "source": [
    "### Reading the data\n",
    "\n",
    "The NOAA give a [detailed description of these\n",
    "data](https://www.nhc.noaa.gov/data/hurdat/hurdat2-format-atl-1851-2021.pdf).\n",
    "\n",
    "But first, let's get the text from the data file.\n",
    "\n",
    "To do that, we will use Python's `pathlib` module, and specifically, the `Path`\n",
    "class.  See [the pathlib page](https://lisds.github.io/dsip/pathlib.html).\n",
    "A `Path` object represents a file on disk.  Among other things, it allows us to\n",
    "read in all the data from the file as text (one long string)."
   ]
  },
  {
   "cell_type": "code",
   "execution_count": null,
   "id": "14d9f8a5",
   "metadata": {},
   "outputs": [],
   "source": [
    "# Get the constructor to make Path objects.\n",
    "from pathlib import Path"
   ]
  },
  {
   "cell_type": "markdown",
   "id": "8bf7919e",
   "metadata": {},
   "source": [
    "Here we read the text from a copy of the `hurdat2-1851-2022-050423.txt`. we\n",
    "have already downloaded from the link above."
   ]
  },
  {
   "cell_type": "code",
   "execution_count": null,
   "id": "de0ece24",
   "metadata": {},
   "outputs": [],
   "source": [
    "hurdat_path = Path('data/hurdat2-1851-2022-050423.txt')\n",
    "# Read the whole contents of the file in as one long string.\n",
    "hurdat_text = hurdat_path.read_text()\n",
    "# Show the first 200 characters of the contents\n",
    "hurdat_text[:200]"
   ]
  },
  {
   "cell_type": "markdown",
   "id": "accf3440",
   "metadata": {},
   "source": [
    "Notice the `\\n` characters in the string above.  These are line end markers. We\n",
    "can split the text into *lines* by splitting them at these markers.\n",
    "\n",
    "We could use `hurdat_text.split('\\n')` for this, but there's a memorable string\n",
    "method called `.splitlines` that will do this for us."
   ]
  },
  {
   "cell_type": "code",
   "execution_count": null,
   "id": "cfc8a92c",
   "metadata": {},
   "outputs": [],
   "source": [
    "hurdat_lines = hurdat_text.splitlines()\n",
    "# Show the first 20 lines\n",
    "hurdat_lines[:20]"
   ]
  },
  {
   "cell_type": "markdown",
   "id": "b008f2a9",
   "metadata": {},
   "source": [
    "As you see here, and as described in the documentation above, the file has the\n",
    "following format for each storm:\n",
    "\n",
    "First there is a *header* line. For example, the first header line here is\n",
    "`'AL011851,            UNNAMED,     14,`.\n",
    "\n",
    "The header line has three values, separated by commas:\n",
    "\n",
    "* The storm identifier, e.g. `AL011851`.  The `AL` prefix identifies this as an\n",
    "  Atlantic storm, and the final four digits are the year of the hurricane.\n",
    "* The storm name, or `UNNAMED` if it did not have a name.\n",
    "* The number of *tracking lines* that follow.  The tracking lines give\n",
    "  information about the storm at the given times.\n",
    "\n",
    "Next there follow one or more *tracking lines*.  Each line gives the position\n",
    "and wind speed of the storm, as well as other information.\n",
    "\n",
    "For example, the first tracking line above starts with `'18510625, 0000,  , HU,\n",
    "28.0N,  94.8W,  80`.\n",
    "\n",
    "These are:\n",
    "\n",
    "* `18510625`: the year, month and day of the observation.\n",
    "* `0000`: the time of the observation.\n",
    "* `HU`: the status of the storm (of which more later).  `HU` means the NOAA has\n",
    "  labeled this storm a hurricane, at this time and day.\n",
    "* `28.0N` and `94.8W` give the position of the storm in latitude and longitude.\n",
    "* `80` gives the estimated maximum wind speed, in knots."
   ]
  },
  {
   "cell_type": "markdown",
   "id": "0bae309b",
   "metadata": {},
   "source": [
    "### Processing the text file\n",
    "\n",
    "To process the text file into a Pandas data frame, we have to combine the header information about the storm with the tracking information.  Here's one way of doing that:"
   ]
  },
  {
   "cell_type": "code",
   "execution_count": null,
   "id": "3f24ed3b",
   "metadata": {},
   "outputs": [],
   "source": [
    "# Run this cell\n",
    "lines_for_csv = []\n",
    "for line in hurdat_lines:\n",
    "    n_commas = line.count(',')  # Count the number \n",
    "    if n_commas == 3:   # This must be a header line.\n",
    "        storm_header = line\n",
    "        # Go back to the beginning of the loop and continue.\n",
    "        continue\n",
    "    # If we got here, this must be a tracking line.\n",
    "    # Append the header to the tracking line.  Store for later.\n",
    "    lines_for_csv.append(storm_header + line)\n",
    "\n",
    "# Show the first 5 processed lines\n",
    "lines_for_csv[:5]"
   ]
  },
  {
   "cell_type": "markdown",
   "id": "522de051",
   "metadata": {},
   "source": [
    "We also need the column names.  These we got from the description document\n",
    "linked above."
   ]
  },
  {
   "cell_type": "code",
   "execution_count": null,
   "id": "8e9b3f7b",
   "metadata": {},
   "outputs": [],
   "source": [
    "col_names = [\n",
    "    \"Storm_ID\",\n",
    "    \"Storm_Name\",\n",
    "    \"Track_Count\",\n",
    "    \"Year_Month_Day\",\n",
    "    \"UTC_Hours_Minutes\",\n",
    "    \"Record identifier\",\n",
    "    \"Status of system\",\n",
    "    \"Latitude_NS\",\n",
    "    \"Longitude_WE\",\n",
    "    \"Maximum sustained wind (in knots)\",\n",
    "    \"Minimum Pressure (in millibars)\",\n",
    "    \"34 kt wind radii maximum extent in NE quadrant\",\n",
    "    \"34 kt wind radii maximum extent in SE quadrant\",\n",
    "    \"34 kt wind radii maximum extent in SW quadrant\",\n",
    "    \"34 kt wind radii maximum extent in NW quadrant\",\n",
    "    \"50 kt wind radii maximum extent in NE quadrant\",\n",
    "    \"50 kt wind radii maximum extent in SE quadrant\",\n",
    "    \"50 kt wind radii maximum extent in SW quadrant\",\n",
    "    \"50 kt wind radii maximum extent in NW quadrant\",\n",
    "    \"64 kt wind radii maximum extent in NE quadrant\",\n",
    "    \"64 kt wind radii maximum extent in SE quadrant\",\n",
    "    \"64 kt wind radii maximum extent in SW quadrant\",\n",
    "    \"64 kt wind radii maximum extent in NW quadrant\",\n",
    "    \"Radius of Maximum Wind\"]\n",
    "\n",
    "# Make the header line for the CSV file.\n",
    "header_for_csv = ','.join(col_names)\n",
    "header_for_csv"
   ]
  },
  {
   "cell_type": "code",
   "execution_count": null,
   "id": "a3c14597",
   "metadata": {},
   "outputs": [],
   "source": [
    "# We can write out the processed file with another Path object.\n",
    "out_path = Path('data/hurdat_processed.csv')\n",
    "out_lines = [header_for_csv] + lines_for_csv\n",
    "out_text = '\\n'.join(out_lines)  # Put the lines back together again.\n",
    "out_path.write_text(out_text)"
   ]
  },
  {
   "cell_type": "markdown",
   "id": "94f4e06c",
   "metadata": {},
   "source": [
    "For reasons that will become clear later, when we read back the data, we need to specify that the `Year_Month_Day` and `UTC_Hours_Minutes` columns should be interpreted as strings rather than numbers."
   ]
  },
  {
   "cell_type": "code",
   "execution_count": null,
   "id": "d2bf5fa0",
   "metadata": {},
   "outputs": [],
   "source": [
    "hurdat = pd.read_csv(out_path,\n",
    "                     dtype={'Year_Month_Day': str,\n",
    "                            'UTC_Hours_Minutes': str})\n",
    "hurdat.head(20)"
   ]
  },
  {
   "cell_type": "markdown",
   "id": "a6f5ff7d",
   "metadata": {},
   "source": [
    "### Validation checks\n",
    "\n",
    "First let's do a correctness check.  The header line gave the number of\n",
    "tracking measurements for each storm.  In our processed data, the track count\n",
    "is in the column `Track_Count`. Therefore, for each storm:\n",
    "\n",
    "* All the `Track_Count` values should be the same and\n",
    "* The `Track_Count` value should equal the number of rows corresponding to that\n",
    "  storm.\n",
    "\n",
    "Let's check that.\n",
    "\n",
    "First write a function that accepts a series as an argument, and return True\n",
    "if all the values in the series are the same, and False otherwise.\n",
    "\n",
    "**Hint** — you may well want to use a function like\n",
    "[`np.all`](https://numpy.org/doc/stable/reference/generated/numpy.all.html) or\n",
    "the [Pandas DataFrame `.all`\n",
    "method](https://pandas.pydata.org/pandas-docs/stable/reference/api/pandas.DataFrame.all.html)."
   ]
  },
  {
   "cell_type": "code",
   "execution_count": null,
   "id": "03715448",
   "metadata": {},
   "outputs": [],
   "source": [
    "def all_same(series):\n",
    "    \"\"\" Return True if all the values in the series are the same\n",
    "\n",
    "    Parameters\n",
    "    ----------\n",
    "    series : Series\n",
    "\n",
    "    Returns\n",
    "    -------\n",
    "    same_tf : bool\n",
    "        True if all the values are the same, False otherwise.\n",
    "    \"\"\"\n",
    "    ...\n",
    "    return ..."
   ]
  },
  {
   "cell_type": "code",
   "execution_count": null,
   "id": "edfef0b6",
   "metadata": {},
   "outputs": [],
   "source": [
    "# Test your function\n",
    "a_series = pd.Series([10, 10, 10, 10])\n",
    "assert all_same(a_series) == True\n",
    "b_series = pd.Series([10, 10, 5, 10])\n",
    "assert all_same(b_series) == False\n",
    "c_series = pd.Series(['one', 'one', 'one', 'one'])\n",
    "assert all_same(c_series) == True"
   ]
  },
  {
   "cell_type": "markdown",
   "id": "ee9c0851",
   "metadata": {},
   "source": [
    "Now create a new Series that has True for the storms where all corresponding rows had the same value for `Track_Count` and False otherwise.\n",
    "\n",
    "Be careful, the storm names do not identify the storm, because many of them are `'UNNAMED'`."
   ]
  },
  {
   "cell_type": "code",
   "execution_count": null,
   "id": "4a595a1d",
   "metadata": {},
   "outputs": [],
   "source": [
    "storm_same_count = ...\n",
    "# Show the result\n",
    "storm_same_count.head(5)"
   ]
  },
  {
   "cell_type": "code",
   "execution_count": null,
   "id": "1e33b1d6",
   "metadata": {},
   "outputs": [],
   "source": [
    "_ = ok.grade('q_storm_same_count')"
   ]
  },
  {
   "cell_type": "markdown",
   "id": "aa0922c0",
   "metadata": {},
   "source": [
    "Do all the storms have True for that check?  Use code to confirm:"
   ]
  },
  {
   "cell_type": "code",
   "execution_count": null,
   "id": "80d55ca7",
   "metadata": {},
   "outputs": [],
   "source": [
    "all_check_out = ..."
   ]
  },
  {
   "cell_type": "code",
   "execution_count": null,
   "id": "09518ae9",
   "metadata": {},
   "outputs": [],
   "source": [
    "_ = ok.grade('q_all_check_out')"
   ]
  },
  {
   "cell_type": "markdown",
   "id": "456df67c",
   "metadata": {},
   "source": [
    "Next, make a new data frame with one row per storm, and two columns.  The first\n",
    "is the `Track_Count` for the corresponding storm, and the second is the number\n",
    "of rows for that storm, as measured by the number of values in the `Storm_ID`\n",
    "column.\n",
    "\n",
    "The first few lines of your table should look like this:\n",
    "\n",
    "<div>\n",
    "<style scoped>\n",
    "    .dataframe tbody tr th:only-of-type {\n",
    "        vertical-align: middle;\n",
    "    }\n",
    "    .dataframe tbody tr th {\n",
    "        vertical-align: top;\n",
    "    }\n",
    "    .dataframe thead th {\n",
    "        text-align: right;\n",
    "    }\n",
    "</style>\n",
    "<table border=\\\"1\\\" class=\\\"dataframe\\\">\n",
    "  <thead>\n",
    "    <tr style=\\\"text-align: right;\\\">\n",
    "      <th></th>\n",
    "      <th>Track_Count</th>\n",
    "      <th>Storm_ID</th>\n",
    "    </tr>\n",
    "    <tr>\n",
    "      <th>Storm_ID</th>\n",
    "      <th></th>\n",
    "      <th></th>\n",
    "    </tr>\n",
    "  </thead>\n",
    "  <tbody>\n",
    "    <tr>\n",
    "      <th>AL011851</th>\n",
    "      <td>14</td>\n",
    "      <td>14</td>\n",
    "    </tr>\n",
    "    <tr>\n",
    "      <th>AL011852</th>\n",
    "      <td>45</td>\n",
    "      <td>45</td>\n",
    "    </tr>\n",
    "    <tr>\n",
    "      <th>AL011853</th>\n",
    "      <td>1</td>\n",
    "      <td>1</td>\n",
    "    </tr>\n",
    "  </tbody>\n",
    "</table>\n",
    "</div>"
   ]
  },
  {
   "cell_type": "code",
   "execution_count": null,
   "id": "4ab7d457",
   "metadata": {},
   "outputs": [],
   "source": [
    "# Show the result\n",
    "storm_counts"
   ]
  },
  {
   "cell_type": "markdown",
   "id": "163cd51b",
   "metadata": {},
   "source": [
    "Use code to set the variable `counts_match` to True if the counts match  for all storms, in the two columns."
   ]
  },
  {
   "cell_type": "code",
   "execution_count": null,
   "id": "d7373a39",
   "metadata": {},
   "outputs": [],
   "source": [
    "counts_match = ..."
   ]
  },
  {
   "cell_type": "code",
   "execution_count": null,
   "id": "21cc7169",
   "metadata": {
    "lines_to_next_cell": 2
   },
   "outputs": [],
   "source": [
    "_ = ok.grade('q_counts_match')"
   ]
  },
  {
   "cell_type": "markdown",
   "id": "0da68a0a",
   "metadata": {},
   "source": [
    "### Cleaning\n",
    "\n",
    "Now we start to do some cleaning.  First we notice that the values in the\n",
    "`Storm_Name` column have an lots of spaces at the beginning:"
   ]
  },
  {
   "cell_type": "code",
   "execution_count": null,
   "id": "723cd899",
   "metadata": {
    "lines_to_next_cell": 0
   },
   "outputs": [],
   "source": [
    "hurdat['Storm_Name'].iloc[0]"
   ]
  },
  {
   "cell_type": "markdown",
   "id": "67684eb9",
   "metadata": {},
   "source": [
    "Strip the spaces from the `Storm_Name` column, and replace the current `Storm_Name` column with the stripped values."
   ]
  },
  {
   "cell_type": "code",
   "execution_count": null,
   "id": "93dd85e9",
   "metadata": {},
   "outputs": [],
   "source": [
    "hurdat['Storm_Name'] = ...\n",
    "# Show the first value.\n",
    "hurdat['Storm_Name'].iloc[0]"
   ]
  },
  {
   "cell_type": "code",
   "execution_count": null,
   "id": "597bfcbe",
   "metadata": {},
   "outputs": [],
   "source": [
    "_ = ok.grade('q_storm_name')"
   ]
  },
  {
   "cell_type": "markdown",
   "id": "424747be",
   "metadata": {},
   "source": [
    "Do we have the same problem for the `Status of system` column?  Investigate. If\n",
    "so, then fix in the same way."
   ]
  },
  {
   "cell_type": "code",
   "execution_count": null,
   "id": "d03aa4af",
   "metadata": {},
   "outputs": [],
   "source": [
    "#- Investigate the Status of system column.  Fix as necessary.\n",
    "..."
   ]
  },
  {
   "cell_type": "code",
   "execution_count": null,
   "id": "3cab43ac",
   "metadata": {},
   "outputs": [],
   "source": [
    "_ = ok.grade('q_status_of_system')"
   ]
  },
  {
   "cell_type": "markdown",
   "id": "4fdde4ea",
   "metadata": {},
   "source": [
    "### Processing dates\n",
    "\n",
    "We want to track changes in the hurricane data over time.\n",
    "\n",
    "In order to do this, we need to be get years and maybe months from the information in the data frame.\n",
    "\n",
    "We will also soon want to be able to get times from the data frame, to select\n",
    "tracks (measurements) for the accumulated cyclone energy (ACE) (see below).\n",
    "\n",
    "Do do this, we want to create a new column in `hurdat` called `Datetime`, that\n",
    "stores the date and time in a special datetime format.\n",
    "\n",
    "To start this process, we first need a Series that is the concatenation of the\n",
    "`UTC_Hours_Minutes` column values to the end of the `Year_Month_Day` column\n",
    "values.  In fact the `Year_Month_Day` values have spaces at the end.  The first\n",
    "two values of the new series `dt_strings` should be `18510625 0000` and\n",
    "`18510625 0600`.\n",
    "\n",
    "By the way, the concatenation we are doing here is why we had to read in these\n",
    "two columns as strings when we first did `pd.read_csv` on the processed text."
   ]
  },
  {
   "cell_type": "code",
   "execution_count": null,
   "id": "a132713b",
   "metadata": {},
   "outputs": [],
   "source": [
    "dt_strings = ...\n",
    "# Show the first five results.\n",
    "dt_strings.head()"
   ]
  },
  {
   "cell_type": "code",
   "execution_count": null,
   "id": "a7b3f6d9",
   "metadata": {
    "lines_to_next_cell": 2
   },
   "outputs": [],
   "source": [
    "_ = ok.grade('q_dt_strings')"
   ]
  },
  {
   "cell_type": "markdown",
   "id": "26a4d139",
   "metadata": {},
   "source": [
    "Use the `pd.to_datetime` function to convert the `dt_string` values to datetime\n",
    "values, and put the result in the `Datetime` column of `hurdat`:"
   ]
  },
  {
   "cell_type": "code",
   "execution_count": null,
   "id": "2244dc91",
   "metadata": {},
   "outputs": [],
   "source": [
    "# Run this cell.\n",
    "hurdat['Datetime'] = pd.to_datetime(dt_strings)\n",
    "hurdat.head()"
   ]
  },
  {
   "cell_type": "markdown",
   "id": "80ae49a0",
   "metadata": {},
   "source": [
    "Notice you can now get the year of the measurement using the `dt` attribute of\n",
    "the new `Datetime` series:"
   ]
  },
  {
   "cell_type": "code",
   "execution_count": null,
   "id": "2573b8e3",
   "metadata": {},
   "outputs": [],
   "source": [
    "# Run this cell.\n",
    "hurdat['Year'] = hurdat['Datetime'].dt.year\n",
    "hurdat['Year']"
   ]
  },
  {
   "cell_type": "markdown",
   "id": "97b290b7",
   "metadata": {},
   "source": [
    "How many tracks (measurements, rows) qualified as hurricanes for each year?\n",
    "\n",
    "Hurricane tracks are rows with `HU` in `Status of system`."
   ]
  },
  {
   "cell_type": "code",
   "execution_count": null,
   "id": "11775071",
   "metadata": {},
   "outputs": [],
   "source": [
    "hu_tracks_per_year = ...\n",
    "                     ...\n",
    "# Show the result\n",
    "hu_tracks_per_year"
   ]
  },
  {
   "cell_type": "code",
   "execution_count": null,
   "id": "24284b14",
   "metadata": {
    "lines_to_next_cell": 2
   },
   "outputs": [],
   "source": [
    "_ = ok.grade('q_hu_tracks_per_year')"
   ]
  },
  {
   "cell_type": "code",
   "execution_count": null,
   "id": "35e25888",
   "metadata": {},
   "outputs": [],
   "source": [
    "#- Plot the number of hurricane tracks (measurements) per year."
   ]
  },
  {
   "cell_type": "markdown",
   "id": "fd22d747",
   "metadata": {},
   "source": [
    "### Measuring storms\n",
    "\n",
    "Our next step is to investigate some measure of Atlantic storms, to assess the\n",
    "NOAA opinion above.\n",
    "\n",
    "One popular measure of storm severity is [Acculated Cyclone\n",
    "Energy](https://en.wikipedia.org/wiki/Accumulated_cyclone_energy).\n",
    "\n",
    "The definitive reference for this measure appears to be [Bell *et al* 2000\n",
    "— \"Climate Assessment for\n",
    "1999\"](https://journals.ametsoc.org/downloadpdf/journals/bams/81/6/1520-0477_2000_81_s1_caf_2_0_co_2.xml).\n",
    "\n",
    "Quoting from that document:\n",
    "\n",
    "> The second measure of over- all seasonal activity is referred to as the\n",
    "hurricane destruction potential (HDP), which is calculated by summing the\n",
    "squares of the estimated 6-hourly maximum sustained wind speed (${V_{max}}^2$)\n",
    "for all periods in which the system is a hurricane. This index represents\n",
    "a single, continuous distribution that implicitly accounts for numbers of\n",
    "hurricanes, yet also gives more weight to strong systems and long-lasting\n",
    "systems. A slight modification of the HDP index involves accumulating\n",
    "${V_{max}}^2$ for all 6-hourly periods in which the system is either a tropical\n",
    "storm or hurricane, thereby also accounting for the number and duration of\n",
    "storms while at a tropical storm status. This modified HDP index is referred to\n",
    "as accumulated cyclone energy (ACE) index (Fig. 28), and is both a physically\n",
    "and statistically reasonable measure of overall activity during a given\n",
    "hurricane season.\n",
    "\n",
    "As you will see from the Wikipedia page above, is also typical to divide the\n",
    "ACE measure by 10,000 to make the numbers easier to read.\n",
    "\n",
    "So, to recap, the ACE measure for one storm would involve the following steps:\n",
    "\n",
    "* Identify the tracking measurements (\"tracks\") corresponding to the storm.\n",
    "* From these, select wind-speed measurements measured at 6 hour intervals.   In\n",
    "  practice these are always measures taken or estimated at 00:00, 06:00, 12:00\n",
    "  and 18:00.  We will discard measures at other times.\n",
    "* From these measures, select those where the status of the storm at the\n",
    "  time qualified it as a storm or a hurricane.  For example, we discard any\n",
    "  tracks (measurements) where, at the time, the storm was classified as\n",
    "  a Tropical Depression or similar.\n",
    "* For the remaining observations, square all the measures of maximum sustained\n",
    "  wind speed, add these up, and divide by 10,000."
   ]
  },
  {
   "cell_type": "markdown",
   "id": "440b252b",
   "metadata": {},
   "source": [
    "For example, consider the observations for the first storm in the data frame:"
   ]
  },
  {
   "cell_type": "code",
   "execution_count": null,
   "id": "cb2e5c10",
   "metadata": {},
   "outputs": [],
   "source": [
    "first_storm_rows = hurdat[hurdat['Storm_ID'] == hurdat['Storm_ID'].iloc[0]]\n",
    "first_storm_rows"
   ]
  },
  {
   "cell_type": "markdown",
   "id": "71d84d8f",
   "metadata": {},
   "source": [
    "Notice that all the observations are at the correct times of 00:00, 06:00, 12:00 and 18:00 except the row labeled 4, measured at 21:00.   We drop that row:"
   ]
  },
  {
   "cell_type": "code",
   "execution_count": null,
   "id": "b01ef0ed",
   "metadata": {},
   "outputs": [],
   "source": [
    "valid_first = first_storm_rows.drop(index=4)\n",
    "valid_first"
   ]
  },
  {
   "cell_type": "markdown",
   "id": "51ddb0d6",
   "metadata": {},
   "source": [
    "Notice too that, for this first storm, all the tracks were rated as either\n",
    "`TS` (tropical storm) or 'HU' (hurricane), so they all qualify.  All that\n",
    "remains is to calculate the ACE score with the wind speeds in the wind speed\n",
    "column:"
   ]
  },
  {
   "cell_type": "code",
   "execution_count": null,
   "id": "dcb7a8a6",
   "metadata": {},
   "outputs": [],
   "source": [
    "ws_col = \"Maximum sustained wind (in knots)\"\n",
    "vmax_vals = valid_first[ws_col]\n",
    "vmax_vals"
   ]
  },
  {
   "cell_type": "markdown",
   "id": "661be326",
   "metadata": {},
   "source": [
    "Write a function `calc_ace` that accepts a sequence of values as an argument,\n",
    "and returns the ACE value."
   ]
  },
  {
   "cell_type": "code",
   "execution_count": null,
   "id": "4c970436",
   "metadata": {},
   "outputs": [],
   "source": [
    "def calc_ace(v_maxes):\n",
    "    \"\"\" Calculate accumulated cyclone energy from `v_maxes`\n",
    "\n",
    "    Parameters\n",
    "    ----------\n",
    "    v_maxes : array or list\n",
    "        Sequence of valid maximum sustained wind speeds, in knots.\n",
    "\n",
    "    Returns\n",
    "    -------\n",
    "    ace : float\n",
    "        Accumulated Cylone Energy\n",
    "    \"\"\"\n",
    "    ...\n",
    "    return ace"
   ]
  },
  {
   "cell_type": "code",
   "execution_count": null,
   "id": "cc9b9ec9",
   "metadata": {},
   "outputs": [],
   "source": [
    "# Test your function with the values from the first storm.\n",
    "# It should show a value around 5.\n",
    "calc_ace(vmax_vals)"
   ]
  },
  {
   "cell_type": "code",
   "execution_count": null,
   "id": "610c139e",
   "metadata": {},
   "outputs": [],
   "source": [
    "_ = ok.grade('q_calc_ace')"
   ]
  },
  {
   "cell_type": "markdown",
   "id": "761b11a2",
   "metadata": {},
   "source": [
    "Now for the big reveal.\n",
    "\n",
    "First — select all the tracks (rows) in `hurdat` for which the following are\n",
    "true:\n",
    "\n",
    "* The time of collection is one of 00:00, 06:00, 12:00 or 18:00 and\n",
    "* The status is one of the storm types (see below), and\n",
    "* The maximum sustained wind wind speed value is >= 34 (storm intensity)\n",
    "\n",
    "Here are the types (status values) we'll identify as storms:"
   ]
  },
  {
   "cell_type": "code",
   "execution_count": null,
   "id": "3a481364",
   "metadata": {},
   "outputs": [],
   "source": [
    "# From https://www.nhc.noaa.gov/data/hurdat/hurdat2-format-atl-1851-2021.pdf\n",
    "storm_types = (\n",
    "    'TS', # Tropical cyclone of tropical storm intensity (34-63 knots)\n",
    "    'HU', # Tropical cyclone of hurricane intensity (> 64 knots)\n",
    "    'SS', # Subtropical cyclone of subtropical storm intensity (> 34 knots))\n",
    ")\n",
    "storm_types"
   ]
  },
  {
   "cell_type": "markdown",
   "id": "4b5c9fa2",
   "metadata": {},
   "source": [
    "**Hint** - consider using attributes of `hurdat['Datetime'].dt` to check for\n",
    "the valid times."
   ]
  },
  {
   "cell_type": "code",
   "execution_count": null,
   "id": "0de6eef5",
   "metadata": {},
   "outputs": [],
   "source": [
    "valid_tracks = ...\n",
    "    ...\n",
    "# Show the first 20 tracks.\n",
    "valid_tracks.head(20)"
   ]
  },
  {
   "cell_type": "code",
   "execution_count": null,
   "id": "3e17d4ad",
   "metadata": {
    "lines_to_next_cell": 2
   },
   "outputs": [],
   "source": [
    "_ = ok.grade('q_valid_tracks')"
   ]
  },
  {
   "cell_type": "markdown",
   "id": "6ef2d94f",
   "metadata": {},
   "source": [
    "Calculate the total ACE per year:"
   ]
  },
  {
   "cell_type": "code",
   "execution_count": null,
   "id": "fdce967b",
   "metadata": {},
   "outputs": [],
   "source": [
    "ace_per_year = ...\n",
    "# Show the result\n",
    "ace_per_year"
   ]
  },
  {
   "cell_type": "code",
   "execution_count": null,
   "id": "bd65a686",
   "metadata": {},
   "outputs": [],
   "source": [
    "_ = ok.grade('q_ace_per_year')"
   ]
  },
  {
   "cell_type": "code",
   "execution_count": null,
   "id": "0eaf2b83",
   "metadata": {},
   "outputs": [],
   "source": [
    "#- Plot the ACE scores per year.\n",
    "#- This will help you answer the text question at the end."
   ]
  },
  {
   "cell_type": "markdown",
   "id": "8d10f8d0",
   "metadata": {},
   "source": [
    "Now we have the valid tracks and the ACE calculation, we can check our ACE\n",
    "calculation on some known values.\n",
    "\n",
    "From the [Wikipedia page on\n",
    "ACE](https://en.wikipedia.org/wiki/Accumulated_cyclone_energy) we see that\n",
    "Hurricane Ivan from 2004 had an ACE value of 70.4, and Hurricane Isabel from\n",
    "2003 had an ACE of 63.3.\n",
    "\n",
    "Notice that there could be multiple hurricanes called Ivan and Isabel, so you\n",
    "need the name and the year to identify them.\n",
    "\n",
    "Calculate the matching values from our data.\n",
    "\n",
    "Do you get the compatible values with your calculation (within rounding error)?"
   ]
  },
  {
   "cell_type": "code",
   "execution_count": null,
   "id": "3da6bd0c",
   "metadata": {},
   "outputs": [],
   "source": [
    "ivan_2004_ace = ...\n",
    "# Show the result\n",
    "ivan_2004_ace"
   ]
  },
  {
   "cell_type": "code",
   "execution_count": null,
   "id": "24a0e068",
   "metadata": {},
   "outputs": [],
   "source": [
    "isabel_2003_ace = ...\n",
    "# Show the result\n",
    "isabel_2003_ace"
   ]
  },
  {
   "cell_type": "code",
   "execution_count": null,
   "id": "5afbe015",
   "metadata": {},
   "outputs": [],
   "source": [
    "_ = ok.grade('q_example_aces')"
   ]
  },
  {
   "cell_type": "markdown",
   "id": "9247a4ea",
   "metadata": {},
   "source": [
    "This one is a fair bit harder.  Count the *number of storms* per year, that\n",
    "have at least 5 valid tracks.\n",
    "\n",
    "Your result `n_storms_by_year` should be a series with index Year and values\n",
    "being the number of *storms* in that year with at least 5 valid tracks.\n",
    "(Valid means qualifying for the ACE calculation above).\n",
    "\n",
    "Categorize a storm as having occurred in a year if the first valid measurement is in that year."
   ]
  },
  {
   "cell_type": "code",
   "execution_count": null,
   "id": "9206a1e0",
   "metadata": {},
   "outputs": [],
   "source": [
    "n_storms_by_year = ...\n",
    "                   ...\n",
    "# Show the result\n",
    "n_storms_by_year"
   ]
  },
  {
   "cell_type": "code",
   "execution_count": null,
   "id": "5ba6a86d",
   "metadata": {
    "lines_to_next_cell": 2
   },
   "outputs": [],
   "source": [
    "_ = ok.grade('q_n_storms_by_year')"
   ]
  },
  {
   "cell_type": "code",
   "execution_count": null,
   "id": "e7f71dea",
   "metadata": {},
   "outputs": [],
   "source": [
    "#- Plot the number of storms\n",
    "#- This will help you answer the text question following."
   ]
  },
  {
   "cell_type": "markdown",
   "id": "13eb53ac",
   "metadata": {},
   "source": [
    "### And the answer is\n",
    "\n",
    "Given the information that you have here, including the NOAA summary linked\n",
    "above, and any other reading you might like to do, evaluate NOAAs arguments\n",
    "that lead them to conclude that it is not yet possible to say with high\n",
    "confidence that rises in greenhouse gases have affected Atlantic hurricane\n",
    "activity.\n",
    "\n",
    "This text question counts for 4 times the marks of the code questions."
   ]
  },
  {
   "cell_type": "markdown",
   "id": "c81b5e5e",
   "metadata": {
    "manual_grade": true,
    "manual_problem_id": "noaa_assessment"
   },
   "source": [
    "*Write your answer here, replacing this text.*"
   ]
  },
  {
   "cell_type": "markdown",
   "id": "2a658ce4",
   "metadata": {},
   "source": [
    "## Done.\n",
    "\n",
    "Congratulations, you're done with the assignment!  Be sure to:\n",
    "\n",
    "- **run all the tests** (the next cell has a shortcut for that).\n",
    "- **Save and Checkpoint** from the `File` menu."
   ]
  },
  {
   "cell_type": "code",
   "execution_count": null,
   "id": "49bba210",
   "metadata": {},
   "outputs": [],
   "source": [
    "# For your convenience, you can run this cell to run all the tests at once!\n",
    "import os\n",
    "_ = [ok.grade(q[:-3]) for q in os.listdir(\"tests\") if q.startswith('q')]"
   ]
  }
 ],
 "metadata": {
  "jupytext": {
   "cell_metadata_json": true,
   "notebook_metadata_filter": "all,-language_info",
   "split_at_heading": true,
   "text_representation": {
    "extension": ".Rmd",
    "format_name": "rmarkdown",
    "format_version": "1.2",
    "jupytext_version": "1.15.2"
   }
  },
  "kernelspec": {
   "display_name": "Python 3 (ipykernel)",
   "language": "python",
   "name": "python3"
  }
 },
 "nbformat": 4,
 "nbformat_minor": 5
}
